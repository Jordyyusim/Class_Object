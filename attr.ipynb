{
 "cells": [
  {
   "cell_type": "code",
   "execution_count": null,
   "metadata": {},
   "outputs": [],
   "source": [
    "objA = A('jkt')\n",
    "# print(objA.nama, objA.kota)\n",
    "objB = B('jkt','sipil')\n",
    "# print(objB.nama, objB.kota, objB.prodi)\n",
    "print(getattr(objB, 'nama'), getattr(objB, 'kota'))\n",
    "print(hasattr(objB, 'prodi'))\n",
    "print(hasattr(objB, 'alamat'))\n",
    "\n",
    "objB.alamat = 'BSD'\n",
    "print(objB.alamat)\n",
    "setattr(objB, 'kampus', 'Universitas ABC')\n",
    "print(hasattr(objB, 'kampus'))\n",
    "print(objB.kampus)\n",
    "\n",
    "# delattr(objB, 'kampus')\n",
    "# print(hasattr(objB, 'kampus'))\n",
    "\n",
    "print(vars(objB))\n",
    "# print(vars(objB).keys())"
   ]
  }
 ],
 "metadata": {
  "kernelspec": {
   "display_name": "Python 3",
   "language": "python",
   "name": "python3"
  },
  "language_info": {
   "codemirror_mode": {
    "name": "ipython",
    "version": 3
   },
   "file_extension": ".py",
   "mimetype": "text/x-python",
   "name": "python",
   "nbconvert_exporter": "python",
   "pygments_lexer": "ipython3",
   "version": "3.8.1"
  }
 },
 "nbformat": 4,
 "nbformat_minor": 4
}
