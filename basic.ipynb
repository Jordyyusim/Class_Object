{
 "cells": [
  {
   "cell_type": "markdown",
   "metadata": {},
   "source": [
    "# __CLASS & OBJECT__\n",
    "<HR>\n",
    "<HR>"
   ]
  },
  {
   "cell_type": "code",
   "execution_count": null,
   "metadata": {},
   "outputs": [],
   "source": [
    "class Mobil:\n",
    "    warna = 'merah' # ini adalah propertinya\n",
    "    tipe = 'SUV'\n",
    "# print(Mobil)\n",
    "# print(type(Mobil))\n",
    "# print(Mobil.warna)\n",
    "# print(Mobil.tipe)\n",
    "\n",
    "# pajero = Mobil()\n",
    "# print(pajero)\n",
    "# print(pajero.warna)\n",
    "# print(pajero.tipe)\n",
    "\n",
    "# agya = Mobil()\n",
    "# print(agya.warna)"
   ]
  },
  {
   "cell_type": "code",
   "execution_count": null,
   "metadata": {},
   "outputs": [],
   "source": [
    "# class mobil:\n",
    "#     def __init__(self, warna, tipe):\n",
    "#         self.warna = warna\n",
    "#         self.tipe = tipe\n",
    "# pajero = mobil('hitam', 'SUV')\n",
    "# agya = mobil('merah', 'hatchback')\n",
    "# agya2 = mobil('kuning', 'hatchback')\n",
    "# print(pajero.warna, pajero.tipe)\n",
    "# print(agya.warna, agya.tipe)"
   ]
  },
  {
   "cell_type": "code",
   "execution_count": null,
   "metadata": {},
   "outputs": [],
   "source": [
    "# class mobil:\n",
    "#     def __init__(self, warna, tipe, seat):\n",
    "#         self.warna = warna\n",
    "#         self.tipe = tipe\n",
    "#         self.seat = seat\n",
    "#     def mahal(self):\n",
    "#         if self.seat <= 4:\n",
    "#             return False\n",
    "#         else: \n",
    "#             return True\n",
    "# pajero = mobil('hitam', 'SUV', 6)\n",
    "# print(pajero.warna, pajero.tipe, pajero.mahal())\n",
    "                                    #method\n"
   ]
  },
  {
   "cell_type": "code",
   "execution_count": null,
   "metadata": {},
   "outputs": [],
   "source": [
    "# class pizza:\n",
    "#     def __init__(self, topping):\n",
    "#         self.ukuran ='35 cm' #=> statis\n",
    "#         self.topping = topping # => dinamis\n",
    "#     def harga(self):\n",
    "#             return len(self.topping) * 10000\n",
    "# pizzaA = pizza('Jagung')\n",
    "# pizzaB = pizza('Keju')\n",
    "# print(pizzaA.ukuran, pizzaA.topping, pizzaA.harga())\n",
    "# print(pizzaB.ukuran, pizzaB.topping, pizzaB.harga())"
   ]
  },
  {
   "cell_type": "code",
   "execution_count": null,
   "metadata": {},
   "outputs": [],
   "source": [
    "# class x:\n",
    "#     def __init__(self, sisi):\n",
    "#         self.sisi = sisi * sisi\n",
    "# luaspersegi = x(10)\n",
    "# print(luaspersegi.sisi)"
   ]
  },
  {
   "cell_type": "code",
   "execution_count": null,
   "metadata": {},
   "outputs": [],
   "source": [
    "# class x:\n",
    "#     def luasPersegi(self, sisi):\n",
    "#         return sisi ** 2\n",
    "#     def kelilingPersegi(self, sisi):\n",
    "#         return sisi * 4\n",
    "# obj = x()\n",
    "# print(obj.luasPersegi(12), obj.kelilingPersegi(10))\n"
   ]
  },
  {
   "cell_type": "code",
   "execution_count": null,
   "metadata": {},
   "outputs": [],
   "source": [
    "# class x:\n",
    "#     y = [1,2,3,4,5]\n",
    "#     z = {'nama': 'Andi'}\n",
    "# obj = x()\n",
    "# print(obj.y[0])\n",
    "# print(obj.z['nama'])"
   ]
  }
 ],
 "metadata": {
  "kernelspec": {
   "display_name": "Python 3",
   "language": "python",
   "name": "python3"
  },
  "language_info": {
   "codemirror_mode": {
    "name": "ipython",
    "version": 3
   },
   "file_extension": ".py",
   "mimetype": "text/x-python",
   "name": "python",
   "nbconvert_exporter": "python",
   "pygments_lexer": "ipython3",
   "version": "3.8.1"
  }
 },
 "nbformat": 4,
 "nbformat_minor": 4
}
