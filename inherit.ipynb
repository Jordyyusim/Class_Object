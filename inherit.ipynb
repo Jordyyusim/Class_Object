{
 "cells": [
  {
   "cell_type": "markdown",
   "metadata": {},
   "source": [
    "# __INHERIT__\n",
    "<hr>\n",
    "<hr>"
   ]
  },
  {
   "cell_type": "markdown",
   "metadata": {},
   "source": [
    "##### You can use the same object from another class"
   ]
  },
  {
   "cell_type": "markdown",
   "metadata": {},
   "source": [
    "### _b inherit to class a_"
   ]
  },
  {
   "cell_type": "code",
   "execution_count": null,
   "metadata": {},
   "outputs": [],
   "source": [
    "# class a:\n",
    "#     nama = 'Andi'\n",
    "#     kota = 'Bandung'\n",
    "\n",
    "# class b(a):  \n",
    "#     pass\n",
    "# objb = b()\n",
    "# print(objb.nama, objb.kota)"
   ]
  },
  {
   "cell_type": "code",
   "execution_count": null,
   "metadata": {},
   "outputs": [],
   "source": [
    "# class a:\n",
    "#     def __init__(self, name, city):\n",
    "#         self.nama = name\n",
    "#         self.kota = city\n",
    "\n",
    "# class b(a):    \n",
    "#     pass\n",
    "\n",
    "# class c(a):\n",
    "#     def __init__(self, name, city):\n",
    "#         a.__init__(self, name, city)\n",
    "\n",
    "# class d(a):\n",
    "#     def __init__(self, name, city):\n",
    "#         super().__init__(name, city)\n",
    "# objb = b('Budi', 'Jogja')\n",
    "# objc = c('jessica', 'BSD')\n",
    "# print(objb.nama, objb.kota)"
   ]
  },
  {
   "cell_type": "markdown",
   "metadata": {},
   "source": [
    "### _MULTILEVEL INHERITANCE_"
   ]
  },
  {
   "cell_type": "code",
   "execution_count": null,
   "metadata": {},
   "outputs": [],
   "source": [
    "# class Manusia:\n",
    "#     def __init__(self, nama):\n",
    "#         self.nama = nama\n",
    "\n",
    "# class Pria(Manusia):\n",
    "#     def __init__(self, nama):\n",
    "#         Manusia.__init__(self, nama)\n",
    "#         self.gender = 'Pria'\n",
    "\n",
    "# class Bencong(Pria):   #multilevel inheritance\n",
    "#     def __init__(self, nama):\n",
    "#         Pria.__init__(self, nama)\n",
    "#         self.feminim = True\n",
    "\n",
    "# class Wanita(Manusia):\n",
    "#     def __init__(self, nama):\n",
    "#         Manusia.__init__(self, nama)\n",
    "#         self.gender = 'Wanita'\n",
    "\n",
    "# x = Pria('Andi')\n",
    "# print(x.nama, x.gender)"
   ]
  },
  {
   "cell_type": "markdown",
   "metadata": {},
   "source": [
    "### _MULTIPLE INHERITANCE_\n",
    "#### C inherit to class A and B"
   ]
  },
  {
   "cell_type": "code",
   "execution_count": null,
   "metadata": {},
   "outputs": [],
   "source": [
    "# class A:\n",
    "#     nama = 'Andi'\n",
    "# class B:\n",
    "#     jabatan = 'Supervisor'\n",
    "# class C(A, B):   #multiple inheritance. class c inherit thd class a dan b\n",
    "#     alamat = 'Jakarta'\n",
    "\n",
    "# objC = C()\n",
    "# print(objC.nama, objC.jabatan, objC.alamat)"
   ]
  }
 ],
 "metadata": {
  "kernelspec": {
   "display_name": "Python 3",
   "language": "python",
   "name": "python3"
  },
  "language_info": {
   "codemirror_mode": {
    "name": "ipython",
    "version": 3
   },
   "file_extension": ".py",
   "mimetype": "text/x-python",
   "name": "python",
   "nbconvert_exporter": "python",
   "pygments_lexer": "ipython3",
   "version": "3.8.1"
  }
 },
 "nbformat": 4,
 "nbformat_minor": 4
}
